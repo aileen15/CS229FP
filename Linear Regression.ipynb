{
 "cells": [
  {
   "cell_type": "code",
   "execution_count": 30,
   "metadata": {
    "collapsed": false
   },
   "outputs": [
    {
     "name": "stdout",
     "output_type": "stream",
     "text": [
      "Training RMS error =  11.1795421925\n"
     ]
    }
   ],
   "source": [
    "import numpy as np\n",
    "import math\n",
    "from matplotlib.image import imread\n",
    "import matplotlib.pyplot as plt\n",
    "import csv\n",
    "\n",
    "def readMatrix(filename):\n",
    "    with open(filename, 'rb') as f:\n",
    "        reader = csv.reader(f, quoting=csv.QUOTE_NONNUMERIC)\n",
    "        data = list(reader)\n",
    "        \n",
    "    data = np.asarray(data)\n",
    "\n",
    "    width = data.shape[1]\n",
    "    features = data[:,0:width-1]\n",
    "    values = data[:,width-1:width]\n",
    "    return features, values\n",
    "\n",
    "    \n",
    "def getCoefficients(A, b):\n",
    "    return np.matmul(np.linalg.pinv(A), b)\n",
    "    \n",
    "    \n",
    "def makePrediction(feat, coeff):\n",
    "    return np.matmul(feat, coeff)\n",
    "\n",
    "def getRMSError(pred, val):\n",
    "    residual = pred - val\n",
    "    return np.linalg.norm(residual)/math.sqrt(np.size(residual))  \n",
    "    \n",
    "    \n",
    "def main():\n",
    "    train_feat, train_val = readMatrix('midterm.csv')\n",
    "    #test_feat, test_val = readMatrix('test_data.csv')\n",
    "    \n",
    "    \n",
    "    coefficients = getCoefficients(train_feat, train_val)\n",
    "    train_pred = makePrediction(train_feat, coefficients)\n",
    "    train_err = getRMSError(train_pred, train_val)\n",
    "    \n",
    "    #test_pred = makePrediction(test_feat, coefficients)\n",
    "    #test_err = getRMSError(test_pred, test_val)\n",
    "    \n",
    "    print \"Training RMS error = \", train_err\n",
    "    #print \"Test RMS error = \", test_err\n",
    "\n",
    "    return\n",
    "\n",
    "\n",
    "if __name__ == '__main__':\n",
    "    main()\n",
    "\n",
    "    "
   ]
  },
  {
   "cell_type": "code",
   "execution_count": null,
   "metadata": {
    "collapsed": true
   },
   "outputs": [],
   "source": []
  },
  {
   "cell_type": "code",
   "execution_count": null,
   "metadata": {
    "collapsed": true
   },
   "outputs": [],
   "source": []
  }
 ],
 "metadata": {
  "kernelspec": {
   "display_name": "Python 2",
   "language": "python",
   "name": "python2"
  },
  "language_info": {
   "codemirror_mode": {
    "name": "ipython",
    "version": 2
   },
   "file_extension": ".py",
   "mimetype": "text/x-python",
   "name": "python",
   "nbconvert_exporter": "python",
   "pygments_lexer": "ipython2",
   "version": "2.7.13"
  }
 },
 "nbformat": 4,
 "nbformat_minor": 2
}
