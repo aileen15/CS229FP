{
 "cells": [
  {
   "cell_type": "code",
   "execution_count": 10,
   "metadata": {
    "collapsed": false
   },
   "outputs": [
    {
     "name": "stdout",
     "output_type": "stream",
     "text": [
      "Done!\n"
     ]
    }
   ],
   "source": [
    "import numpy as np\n",
    "import math\n",
    "from matplotlib.image import imread\n",
    "import matplotlib.pyplot as plt\n",
    "import csv\n",
    "\n",
    "\n",
    "\n",
    "def readMatrix(filename):\n",
    "    states = {'ALABAMA': 1, 'ALASKA': 2, 'ARIZONA': 3, 'ARKANSAS': 4, 'CALIFORNIA': 5, 'COLORADO': 6, 'CONNECTICUT': 7, \n",
    "          'DELAWARE': 8, 'FLORIDA': 9, 'GEORGIA': 10, \n",
    "          'HAWAII': 11, 'IDAHO': 12, 'ILLINOIS': 13, 'INDIANA': 14, 'IOWA': 15, 'KANSAS': 16, 'KENTUCKY': 17, \n",
    "          'LOUISIANA': 18, 'MAINE': 19, 'MARYLAND': 20, 'MASSACHUSETTS': 21, \n",
    "          'MICHIGAN': 22, 'MINNESOTA': 23, 'MISSISSIPPI': 24, 'MISSOURI': 25, 'MONTANA': 26, 'NEBRASKA': 27, 'NEVADA': 28, \n",
    "          'NEW HAMPSHIRE': 29, 'NEW JERSEY': 30, \n",
    "          'NEW MEXICO': 31, 'NEW YORK': 32, 'NORTH CAROLINA': 33, 'NORTH DAKOTA': 34, 'OHIO': 35, 'OKLAHOMA': 36, 'OREGON': 37, \n",
    "          'PENNSYLVANIA': 38, 'RHODE ISLAND': 39, \n",
    "          'SOUTH CAROLINA': 40, 'SOUTH DAKOTA': 41, 'TENNESSEE': 42, 'TEXAS': 43, 'UTAH': 44, 'VERMONT': 45, 'VIRGINIA': 46, \n",
    "          'WASHINGTON': 47, 'WEST VIRGINIA': 48, \n",
    "          'WISCONSIN': 49, 'WYOMING': 50, 'DISTRICT OF COLUMBIA': 51, 'PUERTO RICO': 52}\n",
    "    with open(filename, 'rb') as f:\n",
    "        reader = csv.reader(f)\n",
    "        data = list(reader)\n",
    "    \n",
    "    for i in range(len(data)):\n",
    "        for j in range(len(data[i])):\n",
    "            data[i][j] = data[i][j].strip()\n",
    "            if(j == 2 and i > 0):\n",
    "                data[i][j] = str(states[data[i][j].upper()])\n",
    "    return data\n",
    "    \n",
    "\n",
    "#This is a helper method that takes the submatrix and splits it into\n",
    "#years. Then, it saves each category's year into an appropriately \n",
    "#named file. \n",
    "def saveFiles(raw_data, category_index1, category_index2):\n",
    "    header = raw_data[0]\n",
    "    del raw_data[0]\n",
    "    category = raw_data[0][category_index2]\n",
    "    start_index = 0\n",
    "\n",
    "    #loop through until you find the next year and save that block\n",
    "    for row in range(len(raw_data)):\n",
    "        if raw_data[row][category_index2] != category:\n",
    "            whole_category = raw_data[start_index:row]\n",
    "            whole_category.insert(0, header)\n",
    "            \n",
    "            #write to file\n",
    "            filename = raw_data[row-1][category_index1] + \"_\" + category + '.csv'\n",
    "            whole_category[0][5] = raw_data[row-1][category_index1]\n",
    "            with open(filename, 'wb') as csvfile:\n",
    "                writer = csv.writer(csvfile, delimiter=',')\n",
    "                writer.writerows(whole_category)\n",
    "                \n",
    "            category = raw_data[row][category_index2]\n",
    "            start_index = row\n",
    "\n",
    "    whole_category = raw_data[start_index:len(raw_data)]\n",
    "    whole_category.insert(0, header)\n",
    "            \n",
    "    #write to file\n",
    "    filename = raw_data[len(raw_data)-1][category_index1] + \"_\" + category + '.csv'\n",
    "    whole_category[0][5] = raw_data[len(raw_data)-1][category_index1]\n",
    "    with open(filename, 'wb') as csvfile:\n",
    "        writer = csv.writer(csvfile, delimiter=',')\n",
    "        writer.writerows(whole_category)\n",
    "        \n",
    "        \n",
    "        \n",
    "#This method takes the entire raw data set and extracts submatrices\n",
    "#grouped by category. Then, it calls a helper method to split these\n",
    "#categories by year and save it to a file\n",
    "def extractSubfile(raw_data, category_index1, category_index2):\n",
    "    header = raw_data[0]\n",
    "    del raw_data[0]\n",
    "    category = raw_data[0][category_index1]\n",
    "    start_index = 0\n",
    "    \n",
    "    #loop through until you find the next category and save that block \n",
    "    for row in range(len(raw_data)):\n",
    "        if raw_data[row][category_index1] != category:\n",
    "            whole_category = raw_data[start_index:row]\n",
    "            whole_category.insert(0, header)\n",
    "            saveFiles(whole_category, category_index1, category_index2)\n",
    "            \n",
    "            category = raw_data[row][category_index1]\n",
    "            start_index = row\n",
    "            \n",
    "    whole_category = raw_data[start_index:len(raw_data)]\n",
    "    whole_category.insert(0, header)\n",
    "    saveFiles(whole_category, category_index1, category_index2)\n",
    "     \n",
    "        \n",
    "        \n",
    "def main():\n",
    "    raw_data = readMatrix('MMDCountyProfilesData.csv')\n",
    "    \n",
    "    extractSubfile(raw_data, 0, 1)\n",
    "    print \"Done!\"\n",
    "    return\n",
    "\n",
    "\n",
    "if __name__ == '__main__':\n",
    "    main()\n"
   ]
  },
  {
   "cell_type": "code",
   "execution_count": null,
   "metadata": {
    "collapsed": true
   },
   "outputs": [],
   "source": []
  },
  {
   "cell_type": "code",
   "execution_count": null,
   "metadata": {
    "collapsed": true
   },
   "outputs": [],
   "source": []
  }
 ],
 "metadata": {
  "kernelspec": {
   "display_name": "Python 2",
   "language": "python",
   "name": "python2"
  },
  "language_info": {
   "codemirror_mode": {
    "name": "ipython",
    "version": 2
   },
   "file_extension": ".py",
   "mimetype": "text/x-python",
   "name": "python",
   "nbconvert_exporter": "python",
   "pygments_lexer": "ipython2",
   "version": "2.7.13"
  }
 },
 "nbformat": 4,
 "nbformat_minor": 2
}
