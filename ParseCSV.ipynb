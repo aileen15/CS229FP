{
 "cells": [
  {
   "cell_type": "code",
   "execution_count": 32,
   "metadata": {
    "collapsed": false
   },
   "outputs": [
    {
     "name": "stdout",
     "output_type": "stream",
     "text": [
      "Done!\n"
     ]
    }
   ],
   "source": [
    "import numpy as np\n",
    "import math\n",
    "from matplotlib.image import imread\n",
    "import matplotlib.pyplot as plt\n",
    "import csv\n",
    "\n",
    "def readMatrix(filename):\n",
    "    with open(filename, 'rb') as f:\n",
    "        reader = csv.reader(f)\n",
    "        data = list(reader)\n",
    "    return data\n",
    "    \n",
    "\n",
    "#This is a helper method that takes the submatrix and splits it into\n",
    "#years. Then, it saves each category's year into an appropriately \n",
    "#named file. \n",
    "def saveFiles(raw_data, category_index1, category_index2):\n",
    "    header = raw_data[0]\n",
    "    del raw_data[0]\n",
    "    category = raw_data[0][category_index2]\n",
    "    start_index = 0\n",
    "\n",
    "    #loop through until you find the next year and save that block\n",
    "    for row in range(len(raw_data)):\n",
    "        if raw_data[row][category_index2] != category:\n",
    "            whole_category = raw_data[start_index:row]\n",
    "            whole_category.insert(0, header)\n",
    "            \n",
    "            #write to file\n",
    "            filename = raw_data[row][category_index1] + category + '.csv'\n",
    "            with open(filename, 'wb') as csvfile:\n",
    "                writer = csv.writer(csvfile, delimiter=',')\n",
    "                writer.writerows(whole_category)\n",
    "                \n",
    "            category = raw_data[row][category_index2]\n",
    "            start_index = row\n",
    "\n",
    "    whole_category = raw_data[start_index:len(raw_data)]\n",
    "    whole_category.insert(0, header)\n",
    "            \n",
    "    #write to file\n",
    "    filename = raw_data[row][category_index1] + category + '.csv'\n",
    "    with open(filename, 'wb') as csvfile:\n",
    "        writer = csv.writer(csvfile, delimiter=',')\n",
    "        writer.writerows(whole_category)\n",
    "        \n",
    "        \n",
    "        \n",
    "#This method takes the entire raw data set and extracts submatrices\n",
    "#grouped by category. Then, it calls a helper method to split these\n",
    "#categories by year and save it to a file\n",
    "def extractSubfile(raw_data, category_index1, category_index2):\n",
    "    header = raw_data[0]\n",
    "    del raw_data[0]\n",
    "    category = raw_data[0][category_index1]\n",
    "    start_index = 0\n",
    "    \n",
    "    #loop through until you find the next category and save that block \n",
    "    for row in range(len(raw_data)):\n",
    "        if raw_data[row][category_index1] != category:\n",
    "            whole_category = raw_data[start_index:row]\n",
    "            whole_category.insert(0, header)\n",
    "            saveFiles(whole_category, category_index1, category_index2)\n",
    "            \n",
    "            category = raw_data[row][category_index1]\n",
    "            start_index = row\n",
    "            \n",
    "    whole_category = raw_data[start_index:len(raw_data)]\n",
    "    whole_category.insert(0, header)\n",
    "    saveFiles(whole_category, category_index1, category_index2)\n",
    "            \n",
    "def main():\n",
    "    raw_data = readMatrix('MMDCountyProfilesData.csv')\n",
    "    \n",
    "    extractSubfile(raw_data, 0, 1)\n",
    "    print \"Done!\"\n",
    "    return\n",
    "\n",
    "\n",
    "if __name__ == '__main__':\n",
    "    main()\n"
   ]
  },
  {
   "cell_type": "code",
   "execution_count": null,
   "metadata": {
    "collapsed": true
   },
   "outputs": [],
   "source": []
  },
  {
   "cell_type": "code",
   "execution_count": null,
   "metadata": {
    "collapsed": true
   },
   "outputs": [],
   "source": []
  }
 ],
 "metadata": {
  "kernelspec": {
   "display_name": "Python 2",
   "language": "python",
   "name": "python2"
  },
  "language_info": {
   "codemirror_mode": {
    "name": "ipython",
    "version": 2
   },
   "file_extension": ".py",
   "mimetype": "text/x-python",
   "name": "python",
   "nbconvert_exporter": "python",
   "pygments_lexer": "ipython2",
   "version": "2.7.13"
  }
 },
 "nbformat": 4,
 "nbformat_minor": 2
}
